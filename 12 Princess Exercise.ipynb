{
 "cells": [
  {
   "cell_type": "code",
   "execution_count": 1,
   "metadata": {},
   "outputs": [],
   "source": [
    "import requests  #similar to urllib, this library allows a computer to ping a website\n",
    "import json      #library to handle JSON formatted data"
   ]
  },
  {
   "cell_type": "markdown",
   "metadata": {},
   "source": [
    "The NLTK library was built to separate punctuation from words when tokenizing (splitting into parts)."
   ]
  },
  {
   "cell_type": "code",
   "execution_count": 2,
   "metadata": {},
   "outputs": [],
   "source": [
    "import nltk #to look at individual words and sentences in a text \n",
    "from nltk.tokenize import word_tokenize\n",
    "from nltk.tokenize import sent_tokenize\n",
    "from nltk.tokenize import TweetTokenizer\n",
    "from nltk.probability import FreqDist\n",
    "from nltk.corpus import stopwords\n",
    "from nltk.stem import WordNetLemmatizer\n",
    "from nltk.sentiment.vader import SentimentIntensityAnalyzer\n",
    "\n",
    "#this is sample data\n",
    "from nltk.corpus import names  \n",
    "\n",
    "from string import punctuation"
   ]
  },
  {
   "cell_type": "markdown",
   "metadata": {},
   "source": [
    "Remember the ./ navigates to the directory where the file has been imported.\n",
    "\n",
    "To identify the current directory run\n",
    "import os\n",
    "os.getcwd()"
   ]
  },
  {
   "cell_type": "code",
   "execution_count": 3,
   "metadata": {},
   "outputs": [
    {
     "data": {
      "text/plain": [
       "'C:\\\\Users\\\\GBTC406008ur\\\\Downloads'"
      ]
     },
     "execution_count": 3,
     "metadata": {},
     "output_type": "execute_result"
    }
   ],
   "source": [
    "import os\n",
    "os.getcwd()\n"
   ]
  },
  {
   "cell_type": "code",
   "execution_count": 5,
   "metadata": {},
   "outputs": [],
   "source": [
    "#this cell writes the data to the txt file\n",
    "with open('./datasets_12dancingprincesses.txt','r') as file:\n",
    "    data=file.read()"
   ]
  },
  {
   "cell_type": "code",
   "execution_count": 6,
   "metadata": {},
   "outputs": [],
   "source": [
    "#data=open('datasets_12dancingprincesses.txt', 'r')"
   ]
  },
  {
   "cell_type": "code",
   "execution_count": 7,
   "metadata": {},
   "outputs": [
    {
     "data": {
      "text/plain": [
       "'THE TWELVE DANCING PRINCESSES\\n\\nThere was a king who had twelve beautiful daughters. They slept in\\ntwelve beds all in one room; and when they went to bed, the doors were\\nshut and locked up; but every morning their shoes were found to be quite\\nworn through as if they had been danced in all night; and yet nobody\\ncould find out how it happened, or where they had been.\\n\\nThen the king made it known to all the land, that if any person could\\ndiscover the secret, and find out where it was that the princesses\\ndanced in the night, he should have the one he liked best for his\\nwife, and should be king after his death; but whoever tried and did not\\nsucceed, after three days and nights, should be put to death.\\n\\nA king’s son soon came. He was well entertained, and in the evening was\\ntaken to the chamber next to the one where the princesses lay in their\\ntwelve beds. There he was to sit and watch where they went to dance;\\nand, in order that nothing might pass without his hearing it, the door\\nof his chamber was left open. But the king’s son soon fell asleep; and\\nwhen he awoke in the morning he found that the princesses had all been\\ndancing, for the soles of their shoes were full of holes. The same thing\\nhappened the second and third night: so the king ordered his head to be\\ncut off. After him came several others; but they had all the same luck,\\nand all lost their lives in the same manner.\\n\\nNow it chanced that an old soldier, who had been wounded in battle\\nand could fight no longer, passed through the country where this king\\nreigned: and as he was travelling through a wood, he met an old woman,\\nwho asked him where he was going. ‘I hardly know where I am going, or\\nwhat I had better do,’ said the soldier; ‘but I think I should like very\\nwell to find out where it is that the princesses dance, and then in time\\nI might be a king.’ ‘Well,’ said the old dame, ‘that is no very hard\\ntask: only take care not to drink any of the wine which one of the\\nprincesses will bring to you in the evening; and as soon as she leaves\\nyou pretend to be fast asleep.’\\n\\nThen she gave him a cloak, and said, ‘As soon as you put that on\\nyou will become invisible, and you will then be able to follow the\\nprincesses wherever they go.’ When the soldier heard all this good\\ncounsel, he determined to try his luck: so he went to the king, and said\\nhe was willing to undertake the task.\\n\\nHe was as well received as the others had been, and the king ordered\\nfine royal robes to be given him; and when the evening came he was led\\nto the outer chamber. Just as he was going to lie down, the eldest of\\nthe princesses brought him a cup of wine; but the soldier threw it all\\naway secretly, taking care not to drink a drop. Then he laid himself\\ndown on his bed, and in a little while began to snore very loud as if\\nhe was fast asleep. When the twelve princesses heard this they laughed\\nheartily; and the eldest said, ‘This fellow too might have done a wiser\\nthing than lose his life in this way!’ Then they rose up and opened\\ntheir drawers and boxes, and took out all their fine clothes, and\\ndressed themselves at the glass, and skipped about as if they were eager\\nto begin dancing. But the youngest said, ‘I don’t know how it is, while\\nyou are so happy I feel very uneasy; I am sure some mischance will\\nbefall us.’ ‘You simpleton,’ said the eldest, ‘you are always afraid;\\nhave you forgotten how many kings’ sons have already watched in vain?\\nAnd as for this soldier, even if I had not given him his sleeping\\ndraught, he would have slept soundly enough.’\\n\\nWhen they were all ready, they went and looked at the soldier; but he\\nsnored on, and did not stir hand or foot: so they thought they were\\nquite safe; and the eldest went up to her own bed and clapped her hands,\\nand the bed sank into the floor and a trap-door flew open. The soldier\\nsaw them going down through the trap-door one after another, the eldest\\nleading the way; and thinking he had no time to lose, he jumped up, put\\non the cloak which the old woman had given him, and followed them;\\nbut in the middle of the stairs he trod on the gown of the youngest\\nprincess, and she cried out to her sisters, ‘All is not right; someone\\ntook hold of my gown.’ ‘You silly creature!’ said the eldest, ‘it is\\nnothing but a nail in the wall.’ Then down they all went, and at the\\nbottom they found themselves in a most delightful grove of trees; and\\nthe leaves were all of silver, and glittered and sparkled beautifully.\\nThe soldier wished to take away some token of the place; so he broke\\noff a little branch, and there came a loud noise from the tree. Then the\\nyoungest daughter said again, ‘I am sure all is not right--did not you\\nhear that noise? That never happened before.’ But the eldest said, ‘It\\nis only our princes, who are shouting for joy at our approach.’\\n\\nThen they came to another grove of trees, where all the leaves were of\\ngold; and afterwards to a third, where the leaves were all glittering\\ndiamonds. And the soldier broke a branch from each; and every time there\\nwas a loud noise, which made the youngest sister tremble with fear; but\\nthe eldest still said, it was only the princes, who were crying for joy.\\nSo they went on till they came to a great lake; and at the side of the\\nlake there lay twelve little boats with twelve handsome princes in them,\\nwho seemed to be waiting there for the princesses.\\n\\nOne of the princesses went into each boat, and the soldier stepped into\\nthe same boat with the youngest. As they were rowing over the lake, the\\nprince who was in the boat with the youngest princess and the soldier\\nsaid, ‘I do not know why it is, but though I am rowing with all my might\\nwe do not get on so fast as usual, and I am quite tired: the boat\\nseems very heavy today.’ ‘It is only the heat of the weather,’ said the\\nprincess: ‘I feel it very warm too.’\\n\\nOn the other side of the lake stood a fine illuminated castle, from\\nwhich came the merry music of horns and trumpets. There they all landed,\\nand went into the castle, and each prince danced with his princess; and\\nthe soldier, who was all the time invisible, danced with them too; and\\nwhen any of the princesses had a cup of wine set by her, he drank it\\nall up, so that when she put the cup to her mouth it was empty. At this,\\ntoo, the youngest sister was terribly frightened, but the eldest always\\nsilenced her. They danced on till three o’clock in the morning, and then\\nall their shoes were worn out, so that they were obliged to leave off.\\nThe princes rowed them back again over the lake (but this time the\\nsoldier placed himself in the boat with the eldest princess); and on the\\nopposite shore they took leave of each other, the princesses promising\\nto come again the next night.\\n\\nWhen they came to the stairs, the soldier ran on before the princesses,\\nand laid himself down; and as the twelve sisters slowly came up very\\nmuch tired, they heard him snoring in his bed; so they said, ‘Now all\\nis quite safe’; then they undressed themselves, put away their fine\\nclothes, pulled off their shoes, and went to bed. In the morning the\\nsoldier said nothing about what had happened, but determined to see more\\nof this strange adventure, and went again the second and third night;\\nand every thing happened just as before; the princesses danced each time\\ntill their shoes were worn to pieces, and then returned home. However,\\non the third night the soldier carried away one of the golden cups as a\\ntoken of where he had been.\\n\\nAs soon as the time came when he was to declare the secret, he was taken\\nbefore the king with the three branches and the golden cup; and the\\ntwelve princesses stood listening behind the door to hear what he would\\nsay. And when the king asked him. ‘Where do my twelve daughters dance at\\nnight?’ he answered, ‘With twelve princes in a castle under ground.’ And\\nthen he told the king all that had happened, and showed him the three\\nbranches and the golden cup which he had brought with him. Then the king\\ncalled for the princesses, and asked them whether what the soldier said\\nwas true: and when they saw that they were discovered, and that it was\\nof no use to deny what had happened, they confessed it all. And the king\\nasked the soldier which of them he would choose for his wife; and he\\nanswered, ‘I am not very young, so I will have the eldest.’--And they\\nwere married that very day, and the soldier was chosen to be the king’s\\nheir.'"
      ]
     },
     "execution_count": 7,
     "metadata": {},
     "output_type": "execute_result"
    }
   ],
   "source": [
    "data"
   ]
  },
  {
   "cell_type": "code",
   "execution_count": 8,
   "metadata": {},
   "outputs": [
    {
     "name": "stderr",
     "output_type": "stream",
     "text": [
      "[nltk_data] Downloading package punkt to\n",
      "[nltk_data]     C:\\Users\\GBTC406008ur\\AppData\\Roaming\\nltk_data...\n",
      "[nltk_data]   Package punkt is already up-to-date!\n",
      "[nltk_data] Downloading package wordnet to\n",
      "[nltk_data]     C:\\Users\\GBTC406008ur\\AppData\\Roaming\\nltk_data...\n",
      "[nltk_data]   Package wordnet is already up-to-date!\n",
      "[nltk_data] Downloading package names to\n",
      "[nltk_data]     C:\\Users\\GBTC406008ur\\AppData\\Roaming\\nltk_data...\n",
      "[nltk_data]   Package names is already up-to-date!\n",
      "[nltk_data] Downloading package stopwords to\n",
      "[nltk_data]     C:\\Users\\GBTC406008ur\\AppData\\Roaming\\nltk_data...\n",
      "[nltk_data]   Package stopwords is already up-to-date!\n",
      "[nltk_data] Downloading package vader_lexicon to\n",
      "[nltk_data]     C:\\Users\\GBTC406008ur\\AppData\\Roaming\\nltk_data...\n",
      "[nltk_data]   Package vader_lexicon is already up-to-date!\n"
     ]
    },
    {
     "data": {
      "text/plain": [
       "True"
      ]
     },
     "execution_count": 8,
     "metadata": {},
     "output_type": "execute_result"
    }
   ],
   "source": [
    "nltk.download('punkt')\n",
    "nltk.download('wordnet')\n",
    "nltk.download('names')\n",
    "nltk.download('stopwords')\n",
    "nltk.download('vader_lexicon')"
   ]
  },
  {
   "cell_type": "code",
   "execution_count": 9,
   "metadata": {},
   "outputs": [],
   "source": [
    "#this changes all the words to lowercase\n",
    "data = data.lower()"
   ]
  },
  {
   "cell_type": "code",
   "execution_count": 10,
   "metadata": {},
   "outputs": [],
   "source": [
    "##this will tokenize each part of the text\n",
    "data = word_tokenize(data)"
   ]
  },
  {
   "cell_type": "code",
   "execution_count": 11,
   "metadata": {},
   "outputs": [
    {
     "data": {
      "text/plain": [
       "['the', 'twelve', 'dancing', 'princesses', 'there']"
      ]
     },
     "execution_count": 11,
     "metadata": {},
     "output_type": "execute_result"
    }
   ],
   "source": [
    "#this grabs the first 5 words of the data set\n",
    "data[:5]"
   ]
  },
  {
   "cell_type": "code",
   "execution_count": 12,
   "metadata": {},
   "outputs": [
    {
     "data": {
      "text/plain": [
       "1849"
      ]
     },
     "execution_count": 12,
     "metadata": {},
     "output_type": "execute_result"
    }
   ],
   "source": [
    "#the number of tokens in list before puntuation removal\n",
    "len(data)"
   ]
  },
  {
   "cell_type": "code",
   "execution_count": 13,
   "metadata": {},
   "outputs": [
    {
     "data": {
      "text/plain": [
       "FreqDist({'the': 139, ',': 102, 'and': 78, 'to': 42, '.': 35, ';': 35, 'he': 33, 'they': 32, 'of': 28, '’': 27, ...})"
      ]
     },
     "execution_count": 13,
     "metadata": {},
     "output_type": "execute_result"
    }
   ],
   "source": [
    "#the NLTK FreqDist gives a count for how often each part of the text occurs\n",
    "fd_data = FreqDist(data)\n",
    "fd_data"
   ]
  },
  {
   "cell_type": "code",
   "execution_count": 14,
   "metadata": {},
   "outputs": [],
   "source": [
    "#To remove the puntuation tokens from the list\n",
    "for word in data:\n",
    "    if word in punctuation:\n",
    "        data.remove(word)"
   ]
  },
  {
   "cell_type": "code",
   "execution_count": 17,
   "metadata": {},
   "outputs": [],
   "source": [
    "for word in data:\n",
    "    if word in ['’','‘']:\n",
    "        data.remove(word)"
   ]
  },
  {
   "cell_type": "code",
   "execution_count": 19,
   "metadata": {},
   "outputs": [
    {
     "data": {
      "text/plain": [
       "['i',\n",
       " 'me',\n",
       " 'my',\n",
       " 'myself',\n",
       " 'we',\n",
       " 'our',\n",
       " 'ours',\n",
       " 'ourselves',\n",
       " 'you',\n",
       " \"you're\",\n",
       " \"you've\",\n",
       " \"you'll\",\n",
       " \"you'd\",\n",
       " 'your',\n",
       " 'yours',\n",
       " 'yourself',\n",
       " 'yourselves',\n",
       " 'he',\n",
       " 'him',\n",
       " 'his',\n",
       " 'himself',\n",
       " 'she',\n",
       " \"she's\",\n",
       " 'her',\n",
       " 'hers',\n",
       " 'herself',\n",
       " 'it',\n",
       " \"it's\",\n",
       " 'its',\n",
       " 'itself',\n",
       " 'they',\n",
       " 'them',\n",
       " 'their',\n",
       " 'theirs',\n",
       " 'themselves',\n",
       " 'what',\n",
       " 'which',\n",
       " 'who',\n",
       " 'whom',\n",
       " 'this',\n",
       " 'that',\n",
       " \"that'll\",\n",
       " 'these',\n",
       " 'those',\n",
       " 'am',\n",
       " 'is',\n",
       " 'are',\n",
       " 'was',\n",
       " 'were',\n",
       " 'be',\n",
       " 'been',\n",
       " 'being',\n",
       " 'have',\n",
       " 'has',\n",
       " 'had',\n",
       " 'having',\n",
       " 'do',\n",
       " 'does',\n",
       " 'did',\n",
       " 'doing',\n",
       " 'a',\n",
       " 'an',\n",
       " 'the',\n",
       " 'and',\n",
       " 'but',\n",
       " 'if',\n",
       " 'or',\n",
       " 'because',\n",
       " 'as',\n",
       " 'until',\n",
       " 'while',\n",
       " 'of',\n",
       " 'at',\n",
       " 'by',\n",
       " 'for',\n",
       " 'with',\n",
       " 'about',\n",
       " 'against',\n",
       " 'between',\n",
       " 'into',\n",
       " 'through',\n",
       " 'during',\n",
       " 'before',\n",
       " 'after',\n",
       " 'above',\n",
       " 'below',\n",
       " 'to',\n",
       " 'from',\n",
       " 'up',\n",
       " 'down',\n",
       " 'in',\n",
       " 'out',\n",
       " 'on',\n",
       " 'off',\n",
       " 'over',\n",
       " 'under',\n",
       " 'again',\n",
       " 'further',\n",
       " 'then',\n",
       " 'once',\n",
       " 'here',\n",
       " 'there',\n",
       " 'when',\n",
       " 'where',\n",
       " 'why',\n",
       " 'how',\n",
       " 'all',\n",
       " 'any',\n",
       " 'both',\n",
       " 'each',\n",
       " 'few',\n",
       " 'more',\n",
       " 'most',\n",
       " 'other',\n",
       " 'some',\n",
       " 'such',\n",
       " 'no',\n",
       " 'nor',\n",
       " 'not',\n",
       " 'only',\n",
       " 'own',\n",
       " 'same',\n",
       " 'so',\n",
       " 'than',\n",
       " 'too',\n",
       " 'very',\n",
       " 's',\n",
       " 't',\n",
       " 'can',\n",
       " 'will',\n",
       " 'just',\n",
       " 'don',\n",
       " \"don't\",\n",
       " 'should',\n",
       " \"should've\",\n",
       " 'now',\n",
       " 'd',\n",
       " 'll',\n",
       " 'm',\n",
       " 'o',\n",
       " 're',\n",
       " 've',\n",
       " 'y',\n",
       " 'ain',\n",
       " 'aren',\n",
       " \"aren't\",\n",
       " 'couldn',\n",
       " \"couldn't\",\n",
       " 'didn',\n",
       " \"didn't\",\n",
       " 'doesn',\n",
       " \"doesn't\",\n",
       " 'hadn',\n",
       " \"hadn't\",\n",
       " 'hasn',\n",
       " \"hasn't\",\n",
       " 'haven',\n",
       " \"haven't\",\n",
       " 'isn',\n",
       " \"isn't\",\n",
       " 'ma',\n",
       " 'mightn',\n",
       " \"mightn't\",\n",
       " 'mustn',\n",
       " \"mustn't\",\n",
       " 'needn',\n",
       " \"needn't\",\n",
       " 'shan',\n",
       " \"shan't\",\n",
       " 'shouldn',\n",
       " \"shouldn't\",\n",
       " 'wasn',\n",
       " \"wasn't\",\n",
       " 'weren',\n",
       " \"weren't\",\n",
       " 'won',\n",
       " \"won't\",\n",
       " 'wouldn',\n",
       " \"wouldn't\"]"
      ]
     },
     "execution_count": 19,
     "metadata": {},
     "output_type": "execute_result"
    }
   ],
   "source": [
    "#list of english stopwords\n",
    "eng_stopwords = stopwords.words('english')\n",
    "eng_stopwords"
   ]
  },
  {
   "cell_type": "code",
   "execution_count": 20,
   "metadata": {},
   "outputs": [],
   "source": [
    "rm_count = 0\n",
    "new_words = []  #list to hold new words\n",
    "\n",
    "for word in data:\n",
    "    if word not in eng_stopwords:\n",
    "        new_words.append(word)\n",
    "    else: rm_count += 1"
   ]
  },
  {
   "cell_type": "code",
   "execution_count": 21,
   "metadata": {},
   "outputs": [
    {
     "data": {
      "text/plain": [
       "[('soldier', 19),\n",
       " ('princesses', 17),\n",
       " ('said', 16),\n",
       " ('king', 15),\n",
       " ('twelve', 11),\n",
       " ('went', 11),\n",
       " ('came', 10),\n",
       " ('eldest', 10),\n",
       " ('one', 7),\n",
       " ('night', 7)]"
      ]
     },
     "execution_count": 21,
     "metadata": {},
     "output_type": "execute_result"
    }
   ],
   "source": [
    "#To see the new top 10 words in this text.\n",
    "fd_nw = FreqDist(new_words)\n",
    "fd_nw.most_common(10)"
   ]
  },
  {
   "cell_type": "code",
   "execution_count": 22,
   "metadata": {},
   "outputs": [
    {
     "data": {
      "text/plain": [
       "'!\"#$%&\\'()*+,-./:;<=>?@[\\\\]^_`{|}~'"
      ]
     },
     "execution_count": 22,
     "metadata": {},
     "output_type": "execute_result"
    }
   ],
   "source": [
    "punctuation"
   ]
  },
  {
   "cell_type": "code",
   "execution_count": 23,
   "metadata": {},
   "outputs": [
    {
     "data": {
      "text/plain": [
       "944"
      ]
     },
     "execution_count": 23,
     "metadata": {},
     "output_type": "execute_result"
    }
   ],
   "source": [
    "rm_count"
   ]
  },
  {
   "cell_type": "code",
   "execution_count": 24,
   "metadata": {},
   "outputs": [
    {
     "data": {
      "text/plain": [
       "671"
      ]
     },
     "execution_count": 24,
     "metadata": {},
     "output_type": "execute_result"
    }
   ],
   "source": [
    "len(new_words)"
   ]
  }
 ],
 "metadata": {
  "kernelspec": {
   "display_name": "Python 3",
   "language": "python",
   "name": "python3"
  },
  "language_info": {
   "codemirror_mode": {
    "name": "ipython",
    "version": 3
   },
   "file_extension": ".py",
   "mimetype": "text/x-python",
   "name": "python",
   "nbconvert_exporter": "python",
   "pygments_lexer": "ipython3",
   "version": "3.7.3"
  }
 },
 "nbformat": 4,
 "nbformat_minor": 2
}
