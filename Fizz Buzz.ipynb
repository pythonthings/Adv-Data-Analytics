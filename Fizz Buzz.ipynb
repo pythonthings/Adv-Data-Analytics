{
 "cells": [
  {
   "cell_type": "markdown",
   "metadata": {},
   "source": [
    "# Write a Program Fizz Buzz\n",
    "\n",
    "This Method uses Concatenating Strings\n",
    "\n",
    "Write a program that prints the numbers from 1 to 100.\n",
    "\n",
    "For multiples of 3 print “Fizz” instead of the number. i.e. 3, 6, 9, 12, 15, 18, etc.\n",
    "#For the multiples of five print “Buzz”. i.e. 5, 10, 15, 20, 25\n",
    "#For numbers which are multiples of both 3 and 5 print “FizzBuzz”.\n",
    "#CHALLENGE: Too Easy? Prompt the user for the starting and ending numbers.\n",
    "    \n"
   ]
  },
  {
   "cell_type": "code",
   "execution_count": null,
   "metadata": {},
   "outputs": [],
   "source": [
    "for num in range(1,100):\n",
    "    string = \"\"\n",
    "    if num % 3 == 0:\n",
    "        string = string + \"Fizz\"\n",
    "    if num % 5 == 0:\n",
    "        string = string + \"Buzz\"\n",
    "    if num % 5 != 0 and num % 3 != 0:\n",
    "        string = string + str(num)\n",
    "    print(string)"
   ]
  },
  {
   "cell_type": "code",
   "execution_count": null,
   "metadata": {},
   "outputs": [],
   "source": []
  }
 ],
 "metadata": {
  "kernelspec": {
   "display_name": "Python 3",
   "language": "python",
   "name": "python3"
  },
  "language_info": {
   "codemirror_mode": {
    "name": "ipython",
    "version": 3
   },
   "file_extension": ".py",
   "mimetype": "text/x-python",
   "name": "python",
   "nbconvert_exporter": "python",
   "pygments_lexer": "ipython3",
   "version": "3.7.3"
  }
 },
 "nbformat": 4,
 "nbformat_minor": 2
}
