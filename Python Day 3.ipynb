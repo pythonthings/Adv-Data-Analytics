{
 "cells": [
  {
   "cell_type": "markdown",
   "metadata": {},
   "source": [
    "# Introduction to Python\n",
    "## Today we are learning more python\n"
   ]
  },
  {
   "cell_type": "code",
   "execution_count": 1,
   "metadata": {},
   "outputs": [
    {
     "name": "stdout",
     "output_type": "stream",
     "text": [
      "Enter your name: Nikki\n",
      "Hello, Nikki!\n"
     ]
    }
   ],
   "source": [
    "# our first program\n",
    "name = input(\"Enter your name: \")\n",
    "response = \"Hello, \" + name + \"!\"\n",
    "print(response)"
   ]
  },
  {
   "cell_type": "code",
   "execution_count": null,
   "metadata": {},
   "outputs": [],
   "source": [
    "response = input(\"Enter something: \") \n",
    "print (int(float(response)))"
   ]
  },
  {
   "cell_type": "markdown",
   "metadata": {},
   "source": [
    "## Markdown Examples\n",
    "1. First ordered list item\n",
    "2. Another item\n",
    "\n",
    "* Unordered sub-list. \n",
    "1. Actual numbers don't matter, just that it's a number\n",
    "   1. Ordered sub-list\n",
    "4. And another item.\n",
    "   You can have properly indented paragraphs within list items. Notice the blank line above, and the leading spaces (at least one, but we'll use three here to also align the raw Markdown).\n",
    "\n",
    "   To have a line break without a paragraph, you will need to use two trailing spaces.⋅⋅\n",
    "   Note that this line is separate, but within the same paragraph.⋅⋅\n",
    "    (This is contrary to the typical GFM line break behaviour, where trailing spaces are not required.)\n",
    "\n",
    "* Unordered list can use asterisks\n",
    "- Or minuses\n",
    "+ Or pluses"
   ]
  },
  {
   "cell_type": "code",
   "execution_count": null,
   "metadata": {},
   "outputs": [],
   "source": [
    "# This is a single line comment. It starts with a # sign\n",
    "\n",
    "\"\"\" \n",
    "Multiline strings can be written\n",
    "    using three \"s, and are often used\n",
    "    as documentation.\n",
    "\"\"\"\n",
    "# Math is what you would expect\n",
    "1 + 1   # => 2\n",
    "8 - 1   # => 7\n",
    "10 * 2  # => 20\n",
    "35 / 5  # => 7.0\n",
    "\n",
    "# Integer division rounds down for both positive and negative numbers.\n",
    "5 // 3       # => 1\n",
    "-5 // 3      # => -2\n",
    "5.0 // 3.0   # => 1.0 # works on floats too\n",
    "-5.0 // 3.0  # => -2.0\n",
    "\n",
    "# The result of division is always a float\n",
    "10.0 / 3  # => 3.3333333333333335\n",
    "\n",
    "# Modulo operation\n",
    "7 % 3  # => 1\n",
    "\n",
    "# Exponentiation (x**y, x to the yth power)\n",
    "2**3  # => 8"
   ]
  },
  {
   "cell_type": "code",
   "execution_count": null,
   "metadata": {},
   "outputs": [],
   "source": [
    "# Explore the modulus operator\n",
    "1052 % 2"
   ]
  },
  {
   "cell_type": "code",
   "execution_count": null,
   "metadata": {},
   "outputs": [],
   "source": [
    "# To convert raw_input to a float (floating-point decimal number)\n",
    "response = float( input(\"Enter something: \") )\n",
    "# To convert input to an integer (whole number)\n",
    "response = int( input(\"Enter something: \") )\n",
    "print (response)\n",
    "# To use input as a string\n",
    "response = input(\"Enter something: \")"
   ]
  },
  {
   "cell_type": "code",
   "execution_count": null,
   "metadata": {},
   "outputs": [],
   "source": [
    "# If Statement in Python\n",
    "\n",
    "# Here is an if statement. Indentation is significant in Python!\n",
    "# Convention is to use four spaces, not tabs.\n",
    "# This prints \"some_var is smaller than 10\"\n",
    "\n",
    "# get a variable from the user \n",
    "some_var = int( input(\"Enter something: \") )\n",
    "if some_var > 10:\n",
    "    print(\"some_var is totally bigger than 10.\")\n",
    "elif some_var < 10:    # This elif clause is optional.\n",
    "    print(\"some_var is smaller than 10.\")\n",
    "else:                  # This is optional too.\n",
    "    print(\"some_var is indeed 10.\")\n"
   ]
  },
  {
   "cell_type": "code",
   "execution_count": null,
   "metadata": {},
   "outputs": [],
   "source": [
    "\"\"\"\n",
    "\"range(number)\" returns an iterable of numbers\n",
    "from zero to the given number\n",
    "prints:\n",
    "    0\n",
    "    1\n",
    "    2\n",
    "    3\n",
    "\"\"\"\n",
    "for i in range(4):\n",
    "    print(i)"
   ]
  },
  {
   "cell_type": "code",
   "execution_count": null,
   "metadata": {},
   "outputs": [],
   "source": [
    "\"\"\"\n",
    "\"range(lower, upper)\" returns an iterable of numbers\n",
    "from the lower number to the upper number\n",
    "prints:\n",
    "    4\n",
    "    5\n",
    "    6\n",
    "    7\n",
    "\"\"\"\n",
    "for i in range(4, 8):\n",
    "    print(i)\n",
    "\n"
   ]
  },
  {
   "cell_type": "code",
   "execution_count": null,
   "metadata": {},
   "outputs": [],
   "source": [
    "\"\"\"\n",
    "\"range(lower, upper, step)\" returns an iterable of numbers\n",
    "from the lower number to the upper number, while incrementing\n",
    "by step. If step is not indicated, the default value is 1.\n",
    "prints:\n",
    "    4\n",
    "    6\n",
    "\"\"\"\n",
    "for i in range(4, 20, 2):\n",
    "    print(i)\n"
   ]
  },
  {
   "cell_type": "markdown",
   "metadata": {},
   "source": [
    "## Python Day 2"
   ]
  },
  {
   "cell_type": "markdown",
   "metadata": {},
   "source": [
    "### Strings in python"
   ]
  },
  {
   "cell_type": "code",
   "execution_count": null,
   "metadata": {},
   "outputs": [],
   "source": [
    "# when strings are added together we call that concatenation\n",
    "word1 = \"hello \"\n",
    "word2 = \"world\"\n",
    "fullword = word1 + word2\n",
    "print(fullword)"
   ]
  },
  {
   "cell_type": "code",
   "execution_count": null,
   "metadata": {},
   "outputs": [],
   "source": [
    "# Strings can be repeated\n",
    "repeatedword = word1 * 3\n",
    "print (repeatedword)"
   ]
  },
  {
   "cell_type": "code",
   "execution_count": null,
   "metadata": {},
   "outputs": [],
   "source": [
    "# each letter has an index position and a string can be \"sliced\"\n",
    "print(word2[0:3])"
   ]
  },
  {
   "cell_type": "code",
   "execution_count": null,
   "metadata": {},
   "outputs": [],
   "source": [
    "# String formatting\n",
    "fname = input(\"What is your name? \")\n",
    "\n",
    "print(\"My name is {0}\".format(fname))"
   ]
  },
  {
   "cell_type": "code",
   "execution_count": null,
   "metadata": {},
   "outputs": [],
   "source": [
    "# Introducing print formatting. Use empty braces as a place \n",
    "# holder followed by .format and the values to include\n",
    "print ('We are the {} who say \"{}\"!'.format(\"knights\", \"Ni\"))\n",
    "# you can also use numbers in the place holders\n",
    "print ('We are the {0} who say \"{1}!\"'.format('knights', 'Ni'))\n",
    "# can you see what just happened?\n",
    "print ('We are the {1} who say \"{0}!\"'.format('Ni','knights'))\n",
    "\n",
    "# More details on print formatting are at https://docs.python.org/2/tutorial/inputoutput.html"
   ]
  },
  {
   "cell_type": "code",
   "execution_count": null,
   "metadata": {},
   "outputs": [],
   "source": [
    "## Write the lyrics for a song (counting backwards)\n",
    "for bottle in range(99,0,-1):\n",
    "    if bottle == 1:\n",
    "        print(\"1 bottle of beer on the wall, 1 bottle of beer. Take it down, pass it around, No more bottles of beer on the wall\")\n",
    "    else:\n",
    "        print(\"{0} bottles of beer on the wall, {0} bottles of beer. Take one down, pass it around, {1} bottles of beer on the wall\".format(bottle,bottle-1))\n",
    "print(\"My song is finished!\")"
   ]
  },
  {
   "cell_type": "code",
   "execution_count": null,
   "metadata": {},
   "outputs": [],
   "source": [
    "# changing the case of a string\n",
    "intro = \"My Name is Dave\"\n",
    "print(intro.lower())\n",
    "print(intro.upper())"
   ]
  },
  {
   "cell_type": "code",
   "execution_count": null,
   "metadata": {},
   "outputs": [],
   "source": [
    "# check to see if a string has all alpha characters\n",
    "intro = \"hello world\"\n",
    "intro.isalpha()"
   ]
  },
  {
   "cell_type": "code",
   "execution_count": null,
   "metadata": {},
   "outputs": [],
   "source": [
    "intro = \"My Name is Dave\"\n",
    "intro.replace(\"Dave\",\"Avi\")"
   ]
  },
  {
   "cell_type": "code",
   "execution_count": null,
   "metadata": {},
   "outputs": [],
   "source": [
    "# split strings into parts by a given character\n",
    "# whitespace is the default\n",
    "intro.split()"
   ]
  },
  {
   "cell_type": "code",
   "execution_count": null,
   "metadata": {},
   "outputs": [],
   "source": [
    "# split by letter\n",
    "intro.split(\"e\")"
   ]
  },
  {
   "cell_type": "code",
   "execution_count": null,
   "metadata": {},
   "outputs": [],
   "source": [
    "newstr = \"2019-6-24\"\n",
    "newstr.split(\"-\")"
   ]
  },
  {
   "cell_type": "code",
   "execution_count": null,
   "metadata": {},
   "outputs": [],
   "source": [
    "# removing leading or trailing whitespace\n",
    "extra = \"      hello world!   \"\n",
    "print(\"X{}X\".format(extra.strip()))# removes leading AND trailing whitespace\n",
    "print(\"X{}X\".format(extra.rstrip()))# removes trailing whitespace\n",
    "print(\"X{}X\".format(extra.lstrip()))# removes leading whitespace\n"
   ]
  },
  {
   "cell_type": "code",
   "execution_count": null,
   "metadata": {},
   "outputs": [],
   "source": [
    "# new lines and tabs in strings\n",
    "fruits = \"apples\\noranges\\nbananas\"\n",
    "print (fruits)\n",
    "\n",
    "fruits = \"apples\\toranges\\tbananas\"\n",
    "print (fruits)"
   ]
  },
  {
   "cell_type": "markdown",
   "metadata": {},
   "source": [
    "### Explore the employee pay program below"
   ]
  },
  {
   "cell_type": "code",
   "execution_count": null,
   "metadata": {},
   "outputs": [],
   "source": [
    "\"\"\"\n",
    "Program: employeepay.py\n",
    "Project 2.10\n",
    "\n",
    "Compute an employee's total weekly pay.\n",
    "\n",
    "Useful facts:\n",
    "     An employee's total weekly pay equals the\n",
    "     hourly wage multiplied by the total number\n",
    "     of regular hours plus any overtime pay.  Overtime\n",
    "     pay equals the total overtime hours multiplied by 1.5\n",
    "     times the hourly wage.\n",
    "\n",
    "Write a program that takes as inputs the hourly wage,\n",
    "total regular hours, and total overtime hours and\n",
    "displays an employee's total weekly pay.\n",
    "\n",
    "\"\"\"         \n",
    "\n",
    "# Request the inputs\n",
    "wage = float(input(\"Enter the wage: $\"))  \n",
    "regularHours = float(input(\"Enter the regular hours: \"))  \n",
    "overtimeHours = float(input(\"Enter the overtime hours: \"))  \n",
    "\n",
    "# Compute the result\n",
    "totalPay = regularHours * wage + overtimeHours * wage * 1.5\n",
    "\n",
    "# Display the result\n",
    "print(\"The total weekly pay is $\" + str(round(totalPay, 2)))"
   ]
  },
  {
   "cell_type": "markdown",
   "metadata": {},
   "source": [
    "### Using your Python skills (and possibly those of your neighbor)\n",
    "Create a program to prompt the user to guess a randomly selected number.  Allow the user threee guesses to get the random number.\n",
    "\n",
    "## Key terms:  Prompt...Guess..Random..Guess Max is 3"
   ]
  },
  {
   "cell_type": "markdown",
   "metadata": {},
   "source": [
    "### How to create an endless loop"
   ]
  },
  {
   "cell_type": "code",
   "execution_count": null,
   "metadata": {},
   "outputs": [],
   "source": [
    "# Creating an endless Loop\n",
    "\n",
    "while True:\n",
    "    answer = input(\"Enter a movie you like or press 'q' to quit: \")\n",
    "    if answer.lower() == 'q':\n",
    "        break\n",
    "    else:\n",
    "        print(\"You entered \" + answer)\n"
   ]
  },
  {
   "cell_type": "markdown",
   "metadata": {},
   "source": [
    "Random Numbers"
   ]
  },
  {
   "cell_type": "code",
   "execution_count": null,
   "metadata": {},
   "outputs": [],
   "source": [
    "# Using Random Numbers\n",
    "\n",
    "import random\n",
    "# select a random number between the lower and upper bound (inclusive)\n",
    "# run it many times and see if you return the lower/upper\n",
    "lower = 0\n",
    "upper = 10\n",
    "rnd = random.randint(lower,upper)\n",
    "print(rnd)"
   ]
  },
  {
   "cell_type": "markdown",
   "metadata": {},
   "source": [
    "## Our Solution.  The first part allows One Input\n",
    "Reference:  https://code-maven.com/number-guessing-in-python  For examples/python/number_guessing.py\n"
   ]
  },
  {
   "cell_type": "code",
   "execution_count": null,
   "metadata": {},
   "outputs": [],
   "source": [
    "while True:\n",
    "    # answer = input(\"Enter a movie you like or press 'q' to quit: \")\n",
    "    if answer.lower() == 'q':\n",
    "        break\n",
    "    else:\n",
    "        print(\"You entered \" + answer)"
   ]
  },
  {
   "cell_type": "code",
   "execution_count": 1,
   "metadata": {},
   "outputs": [
    {
     "name": "stdout",
     "output_type": "stream",
     "text": [
      "Please enter your guess: 3\n",
      "Please enter your guess: 5\n",
      "Please enter your guess: 7\n",
      "Your guess is not correct\n"
     ]
    }
   ],
   "source": [
    "# Our Solution.  This allows one input \n",
    "\n",
    "import random\n",
    "hidden = random.randrange(1, 201)\n",
    "while True: \n",
    "    for guess in range (0,3):\n",
    "        guess = int(input(\"Please enter your guess: \"))    \n",
    "        if guess == hidden:\n",
    "            print(\"Hit!\")\n",
    "            break\n",
    "    else:\n",
    "            print(\"Your guess is not correct\")\n",
    "            break"
   ]
  },
  {
   "cell_type": "markdown",
   "metadata": {},
   "source": [
    "## Methods"
   ]
  },
  {
   "cell_type": "code",
   "execution_count": null,
   "metadata": {},
   "outputs": [],
   "source": [
    "# functions can take parameters\n",
    "def greeting(name):\n",
    "    message = \"Happy Birthday to you!\\n\"\n",
    "    message += \"Happy Birthday to you!\\n\"\n",
    "    message += \"Happy Birthday dear \" + name + \"!\\n\"\n",
    "    message += \"Happy birthday to you!\"\n",
    "    print (message)\n",
    "\n",
    "    \n",
    "name = \"Dave\"    \n",
    "greeting(name)   \n",
    "\n",
    "name = \"Avi\"\n",
    "greeting(name)\n",
    "    "
   ]
  },
  {
   "cell_type": "code",
   "execution_count": null,
   "metadata": {},
   "outputs": [],
   "source": [
    "# functions can return values\n",
    "\n",
    "def greeting(name):\n",
    "    message = \"Happy Birthday to you!\\n\"\n",
    "    message += \"Happy Birthday to you!\\n\"\n",
    "    message += \"Happy Birthday dear \" + name + \"!\\n\"\n",
    "    message += \"Happy birthday to you!\"\n",
    "    return message\n",
    "\n",
    "name = \"Dave\"    \n",
    "print(greeting(name))    \n",
    "\n",
    "\n"
   ]
  },
  {
   "cell_type": "markdown",
   "metadata": {},
   "source": [
    "# Dictionary\n",
    "* A Python dictionary is written as a sequence of key/value paris separated by commas. Call these entries.\n",
    "* The sequence of entries is enclosed in curly braces {}\n",
    "* A colon : separates the key and value\n",
    "* \n",
    "\n",
    "### Example\n",
    "```python\n",
    "phone = {\"Dave\":'(301)999-9999',\"Kenisha\":'(301)888-8888'}\n",
    "print(phone[\"Dave\"])\n",
    "```\n"
   ]
  },
  {
   "cell_type": "code",
   "execution_count": null,
   "metadata": {},
   "outputs": [],
   "source": [
    "phone = {\"Dave\":'(301)999-9999',\"Kenisha\":'(301)888-8888'}\n",
    "print(phone[\"Kenisha\"])"
   ]
  },
  {
   "cell_type": "code",
   "execution_count": null,
   "metadata": {},
   "outputs": [],
   "source": [
    "# display a list of your keys\n",
    "list(phone.keys())"
   ]
  },
  {
   "cell_type": "code",
   "execution_count": null,
   "metadata": {},
   "outputs": [],
   "source": [
    "#return a list of the values\n",
    "list(phone.values())"
   ]
  },
  {
   "cell_type": "code",
   "execution_count": null,
   "metadata": {},
   "outputs": [],
   "source": [
    "# Display my name value pairs\n",
    "list(phone.items())"
   ]
  },
  {
   "cell_type": "code",
   "execution_count": null,
   "metadata": {},
   "outputs": [],
   "source": [
    "# loop to print the keys in my list\n",
    "for key in phone:\n",
    "    print(key)\n"
   ]
  },
  {
   "cell_type": "code",
   "execution_count": null,
   "metadata": {},
   "outputs": [],
   "source": [
    "# loop to print the values in my list\n",
    "for key in phone:\n",
    "    print(phone[key])"
   ]
  },
  {
   "cell_type": "code",
   "execution_count": null,
   "metadata": {},
   "outputs": [],
   "source": [
    "# Loop to print the keys and values in my list\n",
    "# loop to print the keys in my list\n",
    "for key in phone:\n",
    "    print(\"{} {}\".format(key,phone[key]))"
   ]
  },
  {
   "cell_type": "code",
   "execution_count": null,
   "metadata": {},
   "outputs": [],
   "source": [
    "# clear the dictionary\n",
    "phone.clear()"
   ]
  },
  {
   "cell_type": "markdown",
   "metadata": {},
   "source": [
    "## Lists\n",
    "* Sequence of data items or elements\n",
    "* Defined with square brackets []\n",
    "\n",
    "   "
   ]
  },
  {
   "cell_type": "code",
   "execution_count": null,
   "metadata": {},
   "outputs": [],
   "source": [
    "# a list of integers\n",
    "[1951,1969,1984,2015]"
   ]
  },
  {
   "cell_type": "code",
   "execution_count": null,
   "metadata": {},
   "outputs": [],
   "source": [
    "# a list of strings\n",
    "['apples', 'oranges', 'cherries']"
   ]
  },
  {
   "cell_type": "code",
   "execution_count": null,
   "metadata": {},
   "outputs": [],
   "source": [
    "# An emply list\n",
    "[]"
   ]
  },
  {
   "cell_type": "code",
   "execution_count": null,
   "metadata": {},
   "outputs": [],
   "source": [
    "# we can build a list\n",
    "data = list(range(1,20,2))\n",
    "print(data)"
   ]
  },
  {
   "cell_type": "code",
   "execution_count": null,
   "metadata": {},
   "outputs": [],
   "source": [
    "# get the length of the list (length = number of items)\n",
    "len(data)"
   ]
  },
  {
   "cell_type": "code",
   "execution_count": null,
   "metadata": {},
   "outputs": [],
   "source": [
    "# slicing allows you to get values out of a portion of a list\n",
    "print(data[5]) # single value\n",
    "print(data[3:7]) #range"
   ]
  },
  {
   "cell_type": "code",
   "execution_count": null,
   "metadata": {},
   "outputs": [],
   "source": [
    "# print each item in the list with a for loop\n",
    "for item in data:\n",
    "    print(item)"
   ]
  },
  {
   "cell_type": "markdown",
   "metadata": {},
   "source": [
    "## Random numbers"
   ]
  },
  {
   "cell_type": "code",
   "execution_count": 2,
   "metadata": {},
   "outputs": [
    {
     "name": "stdout",
     "output_type": "stream",
     "text": [
      "10\n"
     ]
    }
   ],
   "source": [
    "import random\n",
    "# select a random number between the lower and upper bound (inclusive)\n",
    "# run it many times and see if you return the lower/upper\n",
    "lower = 0\n",
    "upper = 10\n",
    "rnd = random.randint(lower,upper)\n",
    "print(rnd)"
   ]
  },
  {
   "cell_type": "code",
   "execution_count": null,
   "metadata": {},
   "outputs": [],
   "source": [
    "'''\n",
    "A set is created by placing all the items (elements) inside curly braces {}, \n",
    "separated by comma or by using the built-in function set().\n",
    "'''\n",
    "\n",
    "# initialize a with {}\n",
    "a = {}\n",
    "\n",
    "# check data type of a\n",
    "# Output: <class 'dict'>\n",
    "print(type(a))\n",
    "\n",
    "# initialize a with set()\n",
    "a = set()\n",
    "\n",
    "\n",
    "# check data type of a\n",
    "# Output: <class 'set'>\n",
    "print(type(a))"
   ]
  },
  {
   "cell_type": "code",
   "execution_count": null,
   "metadata": {},
   "outputs": [],
   "source": [
    "'''\n",
    "Sets are mutable. But since they are unordered, indexing have no meaning.\n",
    "We cannot access or change an element of set using indexing or slicing. \n",
    "Set does not support it.\n",
    "We can add single element using the add() method and multiple elements \n",
    "using the update() method. \n",
    "The update() method can take tuples, lists, strings or other sets as its argument. \n",
    "In all cases, duplicates are avoided.\n",
    "'''\n",
    "# initialize my_set\n",
    "my_set = {1,3}\n",
    "print(my_set)\n",
    "\n",
    "# if you uncomment the next line,\n",
    "# you will get an error\n",
    "# TypeError: 'set' object does not support indexing\n",
    "\n",
    "#my_set[0]\n",
    "\n",
    "# add an element\n",
    "# Output: {1, 2, 3}\n",
    "my_set.add(2)\n",
    "print(my_set)\n",
    "\n",
    "# add multiple elements\n",
    "# Output: {1, 2, 3, 4}\n",
    "my_set.update([2,3,4])\n",
    "print(my_set)\n",
    "\n",
    "# add list and set\n",
    "# Output: {1, 2, 3, 4, 5, 6, 8}\n",
    "my_set.update([4,5], {1,6,8})\n",
    "print(my_set)"
   ]
  },
  {
   "cell_type": "code",
   "execution_count": null,
   "metadata": {},
   "outputs": [],
   "source": [
    "# Tuples\n",
    "'''\n",
    "A tuple is a sequence of immutable Python objects. \n",
    "Tuples are sequences, just like lists. \n",
    "The differences between tuples and lists are, \n",
    "the tuples cannot be changed unlike lists and tuples use parentheses, \n",
    "whereas lists use square brackets. \n",
    "Creating a tuple is as simple as putting different comma-separated values.\n",
    "'''\n",
    "thistuple = (\"apple\", \"banana\", \"cherry\")\n",
    "print(thistuple[1])\n",
    "\n",
    "# Once a tuple is created, you cannot change its values. Tuples are unchangeable.\n",
    "thistuple[1] = \"pineapple\" #generates an error"
   ]
  },
  {
   "cell_type": "code",
   "execution_count": null,
   "metadata": {},
   "outputs": [],
   "source": [
    "# initialize my_set\n",
    "my_set = {1, 3, 4, 5, 6}\n",
    "print(my_set)\n",
    "\n",
    "# discard an element\n",
    "# Output: {1, 3, 5, 6}\n",
    "my_set.discard(4)\n",
    "print(my_set)\n",
    "\n",
    "# remove an element\n",
    "# Output: {1, 3, 5}\n",
    "my_set.remove(6)\n",
    "print(my_set)\n",
    "\n",
    "# discard an element\n",
    "# not present in my_set\n",
    "# Output: {1, 3, 5}\n",
    "my_set.discard(2)\n",
    "print(my_set)\n",
    "\n",
    "# remove an element\n",
    "# not present in my_set\n",
    "# If you uncomment line 27,\n",
    "# you will get an error.\n",
    "# Output: KeyError: 2\n",
    "\n",
    "#my_set.remove(2)"
   ]
  },
  {
   "cell_type": "code",
   "execution_count": null,
   "metadata": {},
   "outputs": [],
   "source": [
    "# Movie Titles\n",
    "'''\n",
    "Modify your script to write your history variable to a file\n",
    "read file to a list\n",
    "sort the list\n",
    "create method for calcScore\n",
    "write only words that have score > 20 to the list\n",
    "\n",
    "''' \n",
    "#Your next assignment is to append all your answers to a variable named history and show history after the user quits\n",
    "history = \"\"\n",
    "while True:\n",
    "    answer = input(\"Enter a movie you like or press 'q' to quit: \")\n",
    "    if answer.lower() == 'q':\n",
    "        break\n",
    "    else:\n",
    "        history += \"\\n\" + answer\n",
    "        #print(\"You entered \" + answer)\n",
    "\n",
    "print(\"You will now exit the program.\")\n",
    "print(history)\n",
    "\n",
    "#Your next assignment is to add a counter to the movies\n",
    "#---------------------------------------------------------------------------------\n",
    "while True:\n",
    "    answer = input(\"Enter a movie you like or press 'q' to quit: \")\n",
    "    if answer.lower() == 'q':\n",
    "        break\n",
    "    else:\n",
    "        print(\"You entered \" + answer)\n",
    "\n",
    "print(\"You will now exit the program.\")\n",
    "#------------------------------------------"
   ]
  }
 ],
 "metadata": {
  "kernelspec": {
   "display_name": "Python 3",
   "language": "python",
   "name": "python3"
  },
  "language_info": {
   "codemirror_mode": {
    "name": "ipython",
    "version": 3
   },
   "file_extension": ".py",
   "mimetype": "text/x-python",
   "name": "python",
   "nbconvert_exporter": "python",
   "pygments_lexer": "ipython3",
   "version": "3.7.3"
  }
 },
 "nbformat": 4,
 "nbformat_minor": 2
}
