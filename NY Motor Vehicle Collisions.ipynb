{
 "cells": [
  {
   "cell_type": "markdown",
   "metadata": {},
   "source": [
    "New York Motor Vehicle Collisions"
   ]
  },
  {
   "cell_type": "markdown",
   "metadata": {},
   "source": [
    "Plotly and Cufflinks:\n",
    "\n",
    "Plotly is a library that allows you to create interactive plots that you can use in dashboards or websites (you can save them as html files or static images)."
   ]
  },
  {
   "cell_type": "markdown",
   "metadata": {},
   "source": [
    "Install plotly and cufflinks to call plots directly off of a pandas dataframe. These libraries are not currently available through conda but are available through pip."
   ]
  },
  {
   "cell_type": "code",
   "execution_count": null,
   "metadata": {},
   "outputs": [],
   "source": [
    "pip install plotly"
   ]
  },
  {
   "cell_type": "code",
   "execution_count": null,
   "metadata": {},
   "outputs": [],
   "source": [
    "pip install cufflinks"
   ]
  },
  {
   "cell_type": "code",
   "execution_count": null,
   "metadata": {},
   "outputs": [],
   "source": [
    "#Imports and Setup\n",
    "\n",
    "import pandas as pd\n",
    "import numpy as np\n",
    "%matplotlib inline\n",
    "\n"
   ]
  },
  {
   "cell_type": "markdown",
   "metadata": {},
   "source": [
    "#Not YET\n",
    " \n",
    "import plotly\n",
    "import plotly.offline as py\n",
    "import plotly.graph_objs as go\n",
    "#ASK:  import matplotlib.pyplot as plt vs import matplotlib\n",
    "%matplotlib inline\n",
    "\n",
    "cf.go_offline() # required to use plotly offline (no account required).\n",
    "py.init_notebook_mode() # graphs charts inline (IPython)."
   ]
  },
  {
   "cell_type": "code",
   "execution_count": null,
   "metadata": {},
   "outputs": [],
   "source": [
    "from plotly import __version__\n",
    "from plotly.offline import download_plotlyjs, init_notebook_mode, plot, iplot\n",
    "\n",
    "print(__version__) # requires version >= 1.9.0"
   ]
  },
  {
   "cell_type": "code",
   "execution_count": null,
   "metadata": {},
   "outputs": [],
   "source": [
    "import cufflinks as cf"
   ]
  },
  {
   "cell_type": "code",
   "execution_count": null,
   "metadata": {},
   "outputs": [],
   "source": [
    "import plotly"
   ]
  },
  {
   "cell_type": "code",
   "execution_count": null,
   "metadata": {},
   "outputs": [],
   "source": [
    "# For Notebooks\n",
    "init_notebook_mode(connected=True)"
   ]
  },
  {
   "cell_type": "code",
   "execution_count": null,
   "metadata": {},
   "outputs": [],
   "source": [
    "# For offline use\n",
    "cf.go_offline()"
   ]
  },
  {
   "cell_type": "code",
   "execution_count": null,
   "metadata": {},
   "outputs": [],
   "source": [
    "#Focusing in on current year data only.  Notice 2014-01-01 and 2015-01-01\n",
    "\n",
    "url = 'https://data.cityofnewyork.us/resource/qiz3-axqb.json?$limit=1000000&\\\n",
    "$where=date%20between%20%272014-01-01T00:00:00%27%20and%20%272015-01-01T00:00:00%27'\n",
    "collisions = pd.read_json(url)"
   ]
  },
  {
   "cell_type": "code",
   "execution_count": null,
   "metadata": {},
   "outputs": [],
   "source": [
    "# Shows the Columns in the dataset\n",
    "collisions.columns"
   ]
  },
  {
   "cell_type": "markdown",
   "metadata": {},
   "source": [
    "Contributing factors of vehicle collisions. The factors are divided into 5 columns, however pandas’ concat method should help  concatenate them into one:"
   ]
  },
  {
   "cell_type": "code",
   "execution_count": null,
   "metadata": {},
   "outputs": [],
   "source": [
    "contributing_factors = pd.concat(\n",
    "          [collisions.contributing_factor_vehicle_1,\n",
    "           collisions.contributing_factor_vehicle_2,\n",
    "           collisions.contributing_factor_vehicle_3,\n",
    "           collisions.contributing_factor_vehicle_4,\n",
    "           collisions.contributing_factor_vehicle_5])"
   ]
  },
  {
   "cell_type": "markdown",
   "metadata": {},
   "source": [
    "Now let’s plot! Cufflinks convieniently connects plotly to the iplot method in my dataframe. Let’s plot the occurence of each factor in a bar chart:"
   ]
  },
  {
   "cell_type": "code",
   "execution_count": null,
   "metadata": {},
   "outputs": [],
   "source": [
    "contributing_factors.value_counts().iplot(kind='bar')"
   ]
  },
  {
   "cell_type": "markdown",
   "metadata": {},
   "source": [
    "That’s a nice and fast way to visuzlie this data, but there is room for improvement: Plotly charts have two main components, Data and Layout . These components are very customizable. Let’s recreate the bar chart in a horizontal orientation and with more space for the labels. Also, let’s get rid of the Unspecified values."
   ]
  },
  {
   "cell_type": "code",
   "execution_count": null,
   "metadata": {},
   "outputs": [],
   "source": [
    "temp = pd.DataFrame({'contributing_factors':contributing_factors.value_counts()})\n",
    "df = temp[temp.index != 'Unspecified']\n",
    "df = df.sort_values(by='contributing_factors', ascending=True)\n",
    "data  = go.Data([\n",
    "            go.Bar(\n",
    "              y = df.index,\n",
    "              x = df.contributing_factors,\n",
    "              orientation='h'\n",
    "        )])\n",
    "layout = go.Layout(\n",
    "        height = '1000',\n",
    "        margin=go.Margin(l=300),\n",
    "        title = \"Contributing Factors for Vehicle Collisions in 2015\"\n",
    ")\n",
    "fig  = go.Figure(data=data, layout=layout)\n",
    "py.iplot(fig)"
   ]
  },
  {
   "cell_type": "code",
   "execution_count": null,
   "metadata": {},
   "outputs": [],
   "source": [
    "collisions.date = pd.to_datetime(collisions.date)\n",
    "collisions.date.sort_values().index\n",
    "df_by_date = collisions.iloc[collisions.date.sort_values().index]"
   ]
  },
  {
   "cell_type": "code",
   "execution_count": null,
   "metadata": {},
   "outputs": [],
   "source": [
    "collisions_by_date = df_by_date.groupby('date').date.count()\n",
    "collisions_by_date.iplot(kind='scatter', title='Collisions Per Day')\n",
    "\n",
    "deaths_by_date = df_by_date.groupby('date')['number_of_persons_killed'].sum()\n",
    "deaths_by_date.iplot(kind='bar', title='Deaths per Day')"
   ]
  },
  {
   "cell_type": "code",
   "execution_count": null,
   "metadata": {},
   "outputs": [],
   "source": [
    "colli_deaths = pd.DataFrame({'collisions':collisions_by_date, 'deaths':deaths_by_date })\n",
    "\n",
    "color1 = '#9467bd'\n",
    "color2 = '#F08B00'\n",
    "\n",
    "trace1 = go.Scatter(\n",
    "    x = colli_deaths.index,\n",
    "    y = colli_deaths['collisions'],\n",
    "    name='collisions',\n",
    "    line = dict(\n",
    "        color = color1\n",
    "    )\n",
    ")\n",
    "trace2 = go.Scatter(\n",
    "    x= colli_deaths.index,\n",
    "    y =colli_deaths['deaths'] ,\n",
    "    name='deaths',\n",
    "    yaxis='y2',\n",
    "    mode='markers'\n",
    "\n",
    ")\n",
    "data = [trace1, trace2]\n",
    "layout = go.Layout(\n",
    "    title= \"Collisions and Deaths per day\",\n",
    "    yaxis=dict(\n",
    "        title='collisions',\n",
    "        titlefont=dict(\n",
    "            color=color1\n",
    "        ),\n",
    "        tickfont=dict(\n",
    "            color=color1\n",
    "        )\n",
    "    ),\n",
    "    yaxis2=dict(\n",
    "        title='deaths',\n",
    "        overlaying='y',\n",
    "        side='right',\n",
    "        titlefont=dict(\n",
    "            color=color2\n",
    "        ),\n",
    "        tickfont=dict(\n",
    "            color=color2\n",
    "        )\n",
    "\n",
    "    )\n",
    "\n",
    ")\n",
    "fig = go.Figure(data=data, layout=layout)\n",
    "plot_url = py.iplot(fig)"
   ]
  },
  {
   "cell_type": "code",
   "execution_count": null,
   "metadata": {},
   "outputs": [],
   "source": [
    "df.iplot(kind='scatter',x='A',y='B',mode='markers',size=10)"
   ]
  },
  {
   "cell_type": "code",
   "execution_count": 1,
   "metadata": {},
   "outputs": [
    {
     "ename": "NameError",
     "evalue": "name 'init_notebook_mode' is not defined",
     "output_type": "error",
     "traceback": [
      "\u001b[1;31m---------------------------------------------------------------------------\u001b[0m",
      "\u001b[1;31mNameError\u001b[0m                                 Traceback (most recent call last)",
      "\u001b[1;32m<ipython-input-1-ecf4579cc67c>\u001b[0m in \u001b[0;36m<module>\u001b[1;34m\u001b[0m\n\u001b[0;32m      1\u001b[0m \u001b[1;31m# For Notebooks\u001b[0m\u001b[1;33m\u001b[0m\u001b[1;33m\u001b[0m\u001b[1;33m\u001b[0m\u001b[0m\n\u001b[1;32m----> 2\u001b[1;33m \u001b[0minit_notebook_mode\u001b[0m\u001b[1;33m(\u001b[0m\u001b[0mconnected\u001b[0m\u001b[1;33m=\u001b[0m\u001b[1;32mTrue\u001b[0m\u001b[1;33m)\u001b[0m\u001b[1;33m\u001b[0m\u001b[1;33m\u001b[0m\u001b[0m\n\u001b[0m",
      "\u001b[1;31mNameError\u001b[0m: name 'init_notebook_mode' is not defined"
     ]
    }
   ],
   "source": [
    "# For Notebooks\n",
    "init_notebook_mode(connected=True)"
   ]
  },
  {
   "cell_type": "code",
   "execution_count": null,
   "metadata": {},
   "outputs": [],
   "source": []
  }
 ],
 "metadata": {
  "kernelspec": {
   "display_name": "Python 3",
   "language": "python",
   "name": "python3"
  },
  "language_info": {
   "codemirror_mode": {
    "name": "ipython",
    "version": 3
   },
   "file_extension": ".py",
   "mimetype": "text/x-python",
   "name": "python",
   "nbconvert_exporter": "python",
   "pygments_lexer": "ipython3",
   "version": "3.7.3"
  }
 },
 "nbformat": 4,
 "nbformat_minor": 2
}
