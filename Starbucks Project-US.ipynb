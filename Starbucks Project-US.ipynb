{
 "cells": [
  {
   "cell_type": "markdown",
   "metadata": {},
   "source": [
    "Download Starbucks Directory (starbucksdirectory.csv) from the Statista website"
   ]
  },
  {
   "cell_type": "code",
   "execution_count": 1,
   "metadata": {},
   "outputs": [],
   "source": [
    "import numpy as np # This is for the linear algebra\n",
    "import pandas as pd # This is for the data processing\n",
    "import matplotlib as mpl\n",
    "import matplotlib.pyplot as plt\n",
    "%matplotlib inline\n",
    "import os\n",
    "\n"
   ]
  },
  {
   "cell_type": "code",
   "execution_count": 2,
   "metadata": {},
   "outputs": [],
   "source": [
    "location = \"downloads/starbucksdirectory.csv\" # Loading the file\n",
    "data = pd.read_csv(location)"
   ]
  },
  {
   "cell_type": "code",
   "execution_count": 3,
   "metadata": {},
   "outputs": [
    {
     "data": {
      "text/html": [
       "<div>\n",
       "<style scoped>\n",
       "    .dataframe tbody tr th:only-of-type {\n",
       "        vertical-align: middle;\n",
       "    }\n",
       "\n",
       "    .dataframe tbody tr th {\n",
       "        vertical-align: top;\n",
       "    }\n",
       "\n",
       "    .dataframe thead th {\n",
       "        text-align: right;\n",
       "    }\n",
       "</style>\n",
       "<table border=\"1\" class=\"dataframe\">\n",
       "  <thead>\n",
       "    <tr style=\"text-align: right;\">\n",
       "      <th></th>\n",
       "      <th>Brand</th>\n",
       "      <th>Store Number</th>\n",
       "      <th>Store Name</th>\n",
       "      <th>Ownership Type</th>\n",
       "      <th>Street Address</th>\n",
       "      <th>City</th>\n",
       "      <th>State</th>\n",
       "      <th>Country</th>\n",
       "      <th>Postcode</th>\n",
       "      <th>Phone Number</th>\n",
       "      <th>Timezone</th>\n",
       "      <th>Latitude</th>\n",
       "      <th>Longitude</th>\n",
       "    </tr>\n",
       "  </thead>\n",
       "  <tbody>\n",
       "    <tr>\n",
       "      <th>0</th>\n",
       "      <td>Starbucks</td>\n",
       "      <td>3513-125945</td>\n",
       "      <td>Safeway-Anchorage #1809</td>\n",
       "      <td>Licensed</td>\n",
       "      <td>5600 Debarr Rd Ste 9</td>\n",
       "      <td>Anchorage</td>\n",
       "      <td>AK</td>\n",
       "      <td>US</td>\n",
       "      <td>995042300</td>\n",
       "      <td>907-339-0900</td>\n",
       "      <td>GMT-09:00 America/Anchorage</td>\n",
       "      <td>61.21</td>\n",
       "      <td>-149.78</td>\n",
       "    </tr>\n",
       "    <tr>\n",
       "      <th>1</th>\n",
       "      <td>Starbucks</td>\n",
       "      <td>74352-84449</td>\n",
       "      <td>Safeway-Anchorage #2628</td>\n",
       "      <td>Licensed</td>\n",
       "      <td>1725 Abbott Rd</td>\n",
       "      <td>Anchorage</td>\n",
       "      <td>AK</td>\n",
       "      <td>US</td>\n",
       "      <td>995073444</td>\n",
       "      <td>907-339-2800</td>\n",
       "      <td>GMT-09:00 America/Anchorage</td>\n",
       "      <td>61.14</td>\n",
       "      <td>-149.84</td>\n",
       "    </tr>\n",
       "    <tr>\n",
       "      <th>2</th>\n",
       "      <td>Starbucks</td>\n",
       "      <td>12449-152385</td>\n",
       "      <td>Safeway - Anchorage #1813</td>\n",
       "      <td>Licensed</td>\n",
       "      <td>1501 Huffman Rd</td>\n",
       "      <td>Anchorage</td>\n",
       "      <td>AK</td>\n",
       "      <td>US</td>\n",
       "      <td>995153596</td>\n",
       "      <td>907-339-1300</td>\n",
       "      <td>GMT-09:00 America/Anchorage</td>\n",
       "      <td>61.11</td>\n",
       "      <td>-149.85</td>\n",
       "    </tr>\n",
       "    <tr>\n",
       "      <th>3</th>\n",
       "      <td>Starbucks</td>\n",
       "      <td>24936-233524</td>\n",
       "      <td>100th &amp; C St - Anchorage</td>\n",
       "      <td>Company Owned</td>\n",
       "      <td>320 W. 100th Ave, 100, Southgate Shopping Ctr ...</td>\n",
       "      <td>Anchorage</td>\n",
       "      <td>AK</td>\n",
       "      <td>US</td>\n",
       "      <td>99515</td>\n",
       "      <td>(907) 227-9631</td>\n",
       "      <td>GMT-09:00 America/Anchorage</td>\n",
       "      <td>61.13</td>\n",
       "      <td>-149.89</td>\n",
       "    </tr>\n",
       "    <tr>\n",
       "      <th>4</th>\n",
       "      <td>Starbucks</td>\n",
       "      <td>8973-85630</td>\n",
       "      <td>Old Seward &amp; Diamond</td>\n",
       "      <td>Company Owned</td>\n",
       "      <td>1005 E Dimond Blvd</td>\n",
       "      <td>Anchorage</td>\n",
       "      <td>AK</td>\n",
       "      <td>US</td>\n",
       "      <td>995152050</td>\n",
       "      <td>907-344-4160</td>\n",
       "      <td>GMT-09:00 America/Anchorage</td>\n",
       "      <td>61.14</td>\n",
       "      <td>-149.86</td>\n",
       "    </tr>\n",
       "  </tbody>\n",
       "</table>\n",
       "</div>"
      ],
      "text/plain": [
       "       Brand  Store Number                 Store Name Ownership Type  \\\n",
       "0  Starbucks   3513-125945    Safeway-Anchorage #1809       Licensed   \n",
       "1  Starbucks   74352-84449    Safeway-Anchorage #2628       Licensed   \n",
       "2  Starbucks  12449-152385  Safeway - Anchorage #1813       Licensed   \n",
       "3  Starbucks  24936-233524   100th & C St - Anchorage  Company Owned   \n",
       "4  Starbucks    8973-85630       Old Seward & Diamond  Company Owned   \n",
       "\n",
       "                                      Street Address       City State Country  \\\n",
       "0                               5600 Debarr Rd Ste 9  Anchorage    AK      US   \n",
       "1                                     1725 Abbott Rd  Anchorage    AK      US   \n",
       "2                                    1501 Huffman Rd  Anchorage    AK      US   \n",
       "3  320 W. 100th Ave, 100, Southgate Shopping Ctr ...  Anchorage    AK      US   \n",
       "4                                 1005 E Dimond Blvd  Anchorage    AK      US   \n",
       "\n",
       "    Postcode    Phone Number                     Timezone  Latitude  Longitude  \n",
       "0  995042300    907-339-0900  GMT-09:00 America/Anchorage     61.21    -149.78  \n",
       "1  995073444    907-339-2800  GMT-09:00 America/Anchorage     61.14    -149.84  \n",
       "2  995153596    907-339-1300  GMT-09:00 America/Anchorage     61.11    -149.85  \n",
       "3      99515  (907) 227-9631  GMT-09:00 America/Anchorage     61.13    -149.89  \n",
       "4  995152050    907-344-4160  GMT-09:00 America/Anchorage     61.14    -149.86  "
      ]
     },
     "execution_count": 3,
     "metadata": {},
     "output_type": "execute_result"
    }
   ],
   "source": [
    "data.head() # Shows the first five rows"
   ]
  },
  {
   "cell_type": "code",
   "execution_count": 4,
   "metadata": {},
   "outputs": [
    {
     "data": {
      "text/plain": [
       "Index(['Brand', 'Store Number', 'Store Name', 'Ownership Type',\n",
       "       'Street Address', 'City', 'State', 'Country', 'Postcode',\n",
       "       'Phone Number', 'Timezone', 'Latitude', 'Longitude'],\n",
       "      dtype='object')"
      ]
     },
     "execution_count": 4,
     "metadata": {},
     "output_type": "execute_result"
    }
   ],
   "source": [
    "data.columns # Shows the columns in the dataset"
   ]
  },
  {
   "cell_type": "code",
   "execution_count": 5,
   "metadata": {},
   "outputs": [
    {
     "data": {
      "text/plain": [
       "(13608, 13)"
      ]
     },
     "execution_count": 5,
     "metadata": {},
     "output_type": "execute_result"
    }
   ],
   "source": [
    "data.shape # Shows the number of Rows and Columns in the dataset; This reflects US only stores"
   ]
  },
  {
   "cell_type": "code",
   "execution_count": 6,
   "metadata": {},
   "outputs": [
    {
     "data": {
      "text/plain": [
       "Brand              object\n",
       "Store Number       object\n",
       "Store Name         object\n",
       "Ownership Type     object\n",
       "Street Address     object\n",
       "City               object\n",
       "State              object\n",
       "Country            object\n",
       "Postcode           object\n",
       "Phone Number       object\n",
       "Timezone           object\n",
       "Latitude          float64\n",
       "Longitude         float64\n",
       "dtype: object"
      ]
     },
     "execution_count": 6,
     "metadata": {},
     "output_type": "execute_result"
    }
   ],
   "source": [
    "data.dtypes # Shows the data type of each Column"
   ]
  },
  {
   "cell_type": "code",
   "execution_count": 7,
   "metadata": {},
   "outputs": [
    {
     "data": {
      "text/html": [
       "<div>\n",
       "<style scoped>\n",
       "    .dataframe tbody tr th:only-of-type {\n",
       "        vertical-align: middle;\n",
       "    }\n",
       "\n",
       "    .dataframe tbody tr th {\n",
       "        vertical-align: top;\n",
       "    }\n",
       "\n",
       "    .dataframe thead th {\n",
       "        text-align: right;\n",
       "    }\n",
       "</style>\n",
       "<table border=\"1\" class=\"dataframe\">\n",
       "  <thead>\n",
       "    <tr style=\"text-align: right;\">\n",
       "      <th></th>\n",
       "      <th>Latitude</th>\n",
       "      <th>Longitude</th>\n",
       "    </tr>\n",
       "  </thead>\n",
       "  <tbody>\n",
       "    <tr>\n",
       "      <th>count</th>\n",
       "      <td>13608.000000</td>\n",
       "      <td>13608.000000</td>\n",
       "    </tr>\n",
       "    <tr>\n",
       "      <th>mean</th>\n",
       "      <td>37.711234</td>\n",
       "      <td>-98.192726</td>\n",
       "    </tr>\n",
       "    <tr>\n",
       "      <th>std</th>\n",
       "      <td>5.393744</td>\n",
       "      <td>18.779476</td>\n",
       "    </tr>\n",
       "    <tr>\n",
       "      <th>min</th>\n",
       "      <td>19.640000</td>\n",
       "      <td>-159.460000</td>\n",
       "    </tr>\n",
       "    <tr>\n",
       "      <th>25%</th>\n",
       "      <td>33.870000</td>\n",
       "      <td>-117.840000</td>\n",
       "    </tr>\n",
       "    <tr>\n",
       "      <th>50%</th>\n",
       "      <td>38.280000</td>\n",
       "      <td>-95.270000</td>\n",
       "    </tr>\n",
       "    <tr>\n",
       "      <th>75%</th>\n",
       "      <td>41.152500</td>\n",
       "      <td>-81.490000</td>\n",
       "    </tr>\n",
       "    <tr>\n",
       "      <th>max</th>\n",
       "      <td>64.850000</td>\n",
       "      <td>-68.740000</td>\n",
       "    </tr>\n",
       "  </tbody>\n",
       "</table>\n",
       "</div>"
      ],
      "text/plain": [
       "           Latitude     Longitude\n",
       "count  13608.000000  13608.000000\n",
       "mean      37.711234    -98.192726\n",
       "std        5.393744     18.779476\n",
       "min       19.640000   -159.460000\n",
       "25%       33.870000   -117.840000\n",
       "50%       38.280000    -95.270000\n",
       "75%       41.152500    -81.490000\n",
       "max       64.850000    -68.740000"
      ]
     },
     "execution_count": 7,
     "metadata": {},
     "output_type": "execute_result"
    }
   ],
   "source": [
    "data.describe()"
   ]
  },
  {
   "cell_type": "code",
   "execution_count": 8,
   "metadata": {},
   "outputs": [
    {
     "data": {
      "text/plain": [
       "Starbucks                13311\n",
       "Teavana                    294\n",
       "Evolution Fresh              2\n",
       "Coffee House Holdings        1\n",
       "Name: Brand, dtype: int64"
      ]
     },
     "execution_count": 8,
     "metadata": {},
     "output_type": "execute_result"
    }
   ],
   "source": [
    "data.Brand.value_counts() "
   ]
  },
  {
   "cell_type": "code",
   "execution_count": 9,
   "metadata": {},
   "outputs": [],
   "source": [
    " coffee = data[data.Brand == 'Starbucks'] # Targeting Starbucks Brand Only"
   ]
  },
  {
   "cell_type": "markdown",
   "metadata": {},
   "source": [
    "Graph: Top Five States with the largest number of Starbucks Stores"
   ]
  },
  {
   "cell_type": "code",
   "execution_count": 10,
   "metadata": {},
   "outputs": [
    {
     "data": {
      "image/png": "[encoded data removed]",
      "text/plain": [
       "<Figure size 432x432 with 1 Axes>"
      ]
     },
     "metadata": {
      "needs_background": "light"
     },
     "output_type": "display_data"
    }
   ],
   "source": [
    "p1 = plt.figure (1,figsize=(6,6))  #  NOTE TO SELF:  CREATE A LEGEND\n",
    "coffee.State.value_counts().head().plot(kind='bar', rot=0)\n",
    "plt.title('Top Five States with the largest number of Starbucks stores')\n",
    "plt.ylabel('Store Counts')\n",
    "plt.xlabel('State')\n",
    "plt.show()"
   ]
  },
  {
   "cell_type": "markdown",
   "metadata": {},
   "source": [
    "Graph:  Top Five States with the fewest number of Starbucks stores"
   ]
  },
  {
   "cell_type": "code",
   "execution_count": 11,
   "metadata": {},
   "outputs": [
    {
     "data": {
      "image/png": "[encoded data removed]",
      "text/plain": [
       "<Figure size 432x432 with 1 Axes>"
      ]
     },
     "metadata": {
      "needs_background": "light"
     },
     "output_type": "display_data"
    }
   ],
   "source": [
    "p1 = plt.figure (1,figsize=(6,6))\n",
    "coffee.State.value_counts(ascending=True).head().plot(kind='bar', rot=0)\n",
    "plt.title('Top Five States with the fewest number of Starbucks stores')\n",
    "plt.ylabel('Store Counts')\n",
    "plt.xlabel('States')\n",
    "plt.show()"
   ]
  },
  {
   "cell_type": "markdown",
   "metadata": {},
   "source": [
    "Graph:  Starbucks Store Ownership Types"
   ]
  },
  {
   "cell_type": "code",
   "execution_count": 12,
   "metadata": {},
   "outputs": [
    {
     "data": {
      "image/png": "[encoded data removed]",
      "text/plain": [
       "<Figure size 360x360 with 1 Axes>"
      ]
     },
     "metadata": {},
     "output_type": "display_data"
    }
   ],
   "source": [
    "p3 = plt.figure(1,figsize=(5,5))\n",
    "plt.title('Starbucks Store Ownership Types')\n",
    "coffee['Ownership Type'].value_counts().plot(kind='pie')\n",
    "plt.show()"
   ]
  },
  {
   "cell_type": "code",
   "execution_count": null,
   "metadata": {},
   "outputs": [],
   "source": []
  }
 ],
 "metadata": {
  "kernelspec": {
   "display_name": "Python 3",
   "language": "python",
   "name": "python3"
  },
  "language_info": {
   "codemirror_mode": {
    "name": "ipython",
    "version": 3
   },
   "file_extension": ".py",
   "mimetype": "text/x-python",
   "name": "python",
   "nbconvert_exporter": "python",
   "pygments_lexer": "ipython3",
   "version": "3.7.1"
  }
 },
 "nbformat": 4,
 "nbformat_minor": 2
}
